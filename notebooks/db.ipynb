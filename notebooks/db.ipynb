{
 "cells": [
  {
   "cell_type": "code",
   "execution_count": 1,
   "metadata": {},
   "outputs": [],
   "source": [
    "import pandas as pd\n",
    "\n",
    "from sqlalchemy import create_engine\n",
    "from urllib.parse import quote_plus\n",
    "\n",
    "username = \"root\"\n",
    "password = \"Rajanraj123@\"\n",
    "host = \"127.0.0.1\"\n",
    "database_name = \"cars\"\n",
    "\n",
    "# URL-encode the password\n",
    "safe_password = quote_plus(password)\n",
    "\n",
    "# Create the connection string for mysql-connector-python\n",
    "connection_string = f\"mysql+mysqlconnector://{username}:{safe_password}@{host}/{database_name}\"\n",
    "\n",
    "# Create the engine\n",
    "engine = create_engine(connection_string)\n"
   ]
  },
  {
   "cell_type": "code",
   "execution_count": 3,
   "metadata": {},
   "outputs": [],
   "source": [
    "df=pd.read_csv(\"data/usedcar1.csv\")\n",
    "\n",
    "    "
   ]
  },
  {
   "cell_type": "code",
   "execution_count": 8,
   "metadata": {},
   "outputs": [
    {
     "name": "stdout",
     "output_type": "stream",
     "text": [
      "table created successfully\n"
     ]
    }
   ],
   "source": [
    "tablename=\"usedcar\"\n",
    "try:\n",
    "    df.to_sql(name = tablename, con = engine, if_exists = 'append', index = False)\n",
    "    print(\"table created successfully\")\n",
    "except Exception as e:\n",
    "    print(e)"
   ]
  },
  {
   "cell_type": "code",
   "execution_count": null,
   "metadata": {},
   "outputs": [],
   "source": []
  }
 ],
 "metadata": {
  "kernelspec": {
   "display_name": "Python 3",
   "language": "python",
   "name": "python3"
  },
  "language_info": {
   "codemirror_mode": {
    "name": "ipython",
    "version": 3
   },
   "file_extension": ".py",
   "mimetype": "text/x-python",
   "name": "python",
   "nbconvert_exporter": "python",
   "pygments_lexer": "ipython3",
   "version": "3.10.14"
  }
 },
 "nbformat": 4,
 "nbformat_minor": 2
}
