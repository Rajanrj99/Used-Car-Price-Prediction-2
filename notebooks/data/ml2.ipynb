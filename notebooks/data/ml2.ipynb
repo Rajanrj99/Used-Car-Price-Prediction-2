{
 "cells": [
  {
   "cell_type": "code",
   "execution_count": 1,
   "metadata": {},
   "outputs": [],
   "source": [
    "import pandas as pd\n"
   ]
  },
  {
   "cell_type": "code",
   "execution_count": 4,
   "metadata": {},
   "outputs": [],
   "source": [
    "df=pd.DataFrame(pd.read_csv(\"cleaned.csv\"))"
   ]
  },
  {
   "cell_type": "code",
   "execution_count": 5,
   "metadata": {},
   "outputs": [
    {
     "data": {
      "text/html": [
       "<div>\n",
       "<style scoped>\n",
       "    .dataframe tbody tr th:only-of-type {\n",
       "        vertical-align: middle;\n",
       "    }\n",
       "\n",
       "    .dataframe tbody tr th {\n",
       "        vertical-align: top;\n",
       "    }\n",
       "\n",
       "    .dataframe thead th {\n",
       "        text-align: right;\n",
       "    }\n",
       "</style>\n",
       "<table border=\"1\" class=\"dataframe\">\n",
       "  <thead>\n",
       "    <tr style=\"text-align: right;\">\n",
       "      <th></th>\n",
       "      <th>Unnamed: 0</th>\n",
       "      <th>price</th>\n",
       "      <th>vehicleType</th>\n",
       "      <th>yearOfRegistration</th>\n",
       "      <th>gearbox</th>\n",
       "      <th>model</th>\n",
       "      <th>kilometer</th>\n",
       "      <th>fuelType</th>\n",
       "      <th>brand</th>\n",
       "    </tr>\n",
       "  </thead>\n",
       "  <tbody>\n",
       "    <tr>\n",
       "      <th>0</th>\n",
       "      <td>0</td>\n",
       "      <td>500</td>\n",
       "      <td>kleinwagen</td>\n",
       "      <td>1997</td>\n",
       "      <td>manual</td>\n",
       "      <td>polo</td>\n",
       "      <td>150000</td>\n",
       "      <td>benzene</td>\n",
       "      <td>volkswagen</td>\n",
       "    </tr>\n",
       "    <tr>\n",
       "      <th>1</th>\n",
       "      <td>1</td>\n",
       "      <td>11500</td>\n",
       "      <td>kombi</td>\n",
       "      <td>2005</td>\n",
       "      <td>automatic</td>\n",
       "      <td>a6</td>\n",
       "      <td>150000</td>\n",
       "      <td>diesel</td>\n",
       "      <td>audi</td>\n",
       "    </tr>\n",
       "    <tr>\n",
       "      <th>2</th>\n",
       "      <td>2</td>\n",
       "      <td>6200</td>\n",
       "      <td>cabrio</td>\n",
       "      <td>1999</td>\n",
       "      <td>automatic</td>\n",
       "      <td>clk</td>\n",
       "      <td>150000</td>\n",
       "      <td>benzene</td>\n",
       "      <td>mercedes_benz</td>\n",
       "    </tr>\n",
       "    <tr>\n",
       "      <th>3</th>\n",
       "      <td>3</td>\n",
       "      <td>20900</td>\n",
       "      <td>limousine</td>\n",
       "      <td>2013</td>\n",
       "      <td>automatic</td>\n",
       "      <td>c_klasse</td>\n",
       "      <td>50000</td>\n",
       "      <td>benzene</td>\n",
       "      <td>mercedes_benz</td>\n",
       "    </tr>\n",
       "    <tr>\n",
       "      <th>4</th>\n",
       "      <td>4</td>\n",
       "      <td>4200</td>\n",
       "      <td>kleinwagen</td>\n",
       "      <td>2007</td>\n",
       "      <td>manual</td>\n",
       "      <td>yaris</td>\n",
       "      <td>150000</td>\n",
       "      <td>diesel</td>\n",
       "      <td>toyota</td>\n",
       "    </tr>\n",
       "  </tbody>\n",
       "</table>\n",
       "</div>"
      ],
      "text/plain": [
       "   Unnamed: 0  price vehicleType  yearOfRegistration    gearbox     model  \\\n",
       "0           0    500  kleinwagen                1997     manual      polo   \n",
       "1           1  11500       kombi                2005  automatic        a6   \n",
       "2           2   6200      cabrio                1999  automatic       clk   \n",
       "3           3  20900   limousine                2013  automatic  c_klasse   \n",
       "4           4   4200  kleinwagen                2007     manual     yaris   \n",
       "\n",
       "   kilometer fuelType          brand  \n",
       "0     150000  benzene     volkswagen  \n",
       "1     150000   diesel           audi  \n",
       "2     150000  benzene  mercedes_benz  \n",
       "3      50000  benzene  mercedes_benz  \n",
       "4     150000   diesel         toyota  "
      ]
     },
     "execution_count": 5,
     "metadata": {},
     "output_type": "execute_result"
    }
   ],
   "source": [
    "df.head()"
   ]
  },
  {
   "cell_type": "code",
   "execution_count": 6,
   "metadata": {},
   "outputs": [
    {
     "name": "stdout",
     "output_type": "stream",
     "text": [
      "<class 'pandas.core.frame.DataFrame'>\n",
      "RangeIndex: 102734 entries, 0 to 102733\n",
      "Data columns (total 9 columns):\n",
      " #   Column              Non-Null Count   Dtype \n",
      "---  ------              --------------   ----- \n",
      " 0   Unnamed: 0          102734 non-null  int64 \n",
      " 1   price               102734 non-null  int64 \n",
      " 2   vehicleType         102734 non-null  object\n",
      " 3   yearOfRegistration  102734 non-null  int64 \n",
      " 4   gearbox             102734 non-null  object\n",
      " 5   model               102734 non-null  object\n",
      " 6   kilometer           102734 non-null  int64 \n",
      " 7   fuelType            102734 non-null  object\n",
      " 8   brand               102734 non-null  object\n",
      "dtypes: int64(4), object(5)\n",
      "memory usage: 7.1+ MB\n"
     ]
    }
   ],
   "source": [
    "df.info()"
   ]
  },
  {
   "cell_type": "code",
   "execution_count": 10,
   "metadata": {},
   "outputs": [
    {
     "name": "stdout",
     "output_type": "stream",
     "text": [
      "['volkswagen' 'audi' 'mercedes_benz' 'toyota' 'fiat' 'ford' 'bmw' 'volvo'\n",
      " 'smart' 'renault' 'skoda' 'opel' 'suzuki' 'hyundai' 'mitsubishi'\n",
      " 'peugeot' 'alfa_romeo' 'sonstige_autos' 'honda' 'citroen' 'porsche'\n",
      " 'seat' 'kia' 'mazda' 'mini' 'nissan' 'chevrolet' 'lancia' 'chrysler'\n",
      " 'daewoo' 'dacia' 'rover' 'trabant' 'subaru' 'daihatsu' 'land_rover'\n",
      " 'jaguar' 'saab' 'lada' 'jeep']\n",
      "['kleinwagen' 'kombi' 'cabrio' 'limousine' 'bus' 'other' 'suv' 'coupe']\n",
      "['manual' 'automatic']\n",
      "['polo' 'a6' 'clk' 'c_klasse' 'yaris' 'seicento' 'golf' 'mondeo' '3er'\n",
      " 'other' 'a4' 'v70' 'bora' 'tiguan' 'fortwo' 'kuga' 'octavia' 'passat'\n",
      " 'corsa' 'twingo' 'astra' 'a3' 'scenic' 'transporter' 'touran' 'grand'\n",
      " 'i_reihe' 'sprinter' 'm_klasse' 'vectra' 'focus' 'jetta' '500' 'a5'\n",
      " 'a_klasse' 'tt' 'ka' '156' 'doblo' '147' 'b_klasse' '2_reihe' 'stilo'\n",
      " 'galant' 'fabia' 'e_klasse' 'laguna' 'accord' 'v40' 'verso' 'c5' 'rav'\n",
      " 'cayenne' '5er' 'lupo' 'toledo' 'fiesta' 'sportage' 'clio' 'transit'\n",
      " 'punto' 'x_reihe' 'primera' 'omega' 'ceed' 'one' 'getz' '1er' '911'\n",
      " 'cooper' 'ypsilon' 'fusion' 'zafira' 'z_reihe' 'kadett' 'aygo' 'meriva'\n",
      " 'c_max' 'roadster' 'forfour' 'ibiza' 'roomster' 'superb' 'tigra' 'kalos'\n",
      " 'sl' 'duster' 'megane' 'vito' 'micra' '3_reihe' 'v50' 'clubman'\n",
      " 'outlander' '6_reihe' 'phaeton' 'captiva' 'insignia' 'mx_reihe' 'c1' 'c2'\n",
      " 'leon' 'fox' '1_reihe' 'nubira' 'galaxy' 'panda' 'beetle' 'q5' 'spider'\n",
      " 'modus' '4_reihe' 'viano' 'q3' 'alhambra' 'civic' '601' 'voyager'\n",
      " 'm_reihe' 'scirocco' 'kangoo' 'c4' 'jazz' 'auris' 'aveo' 'combo'\n",
      " 'touareg' 'a1' 'cc' 'pajero' 'impreza' 'cl' 'c3' 'avensis' 'sirion'\n",
      " 'arosa' 'kaefer' 'carisma' 'ducato' 'corolla' 'ptcruiser' 'cr_reihe'\n",
      " 'slk' 'caddy' 'c_reihe' 'espace' '80' 'a8' 'eos' 'signum' 'berlingo'\n",
      " 'almera' 'cordoba' 'xc_reihe' 'range_rover_evoque' 's_max' 's_klasse'\n",
      " 'defender' '7er' 'escort' 'colt' 'cuore' 'sharan' 'altea' 'up' 'sandero'\n",
      " 'mustang' 'swift' 'rio' 'picanto' '100' 'range_rover_sport' 'logan' '900'\n",
      " 'qashqai' '300c' 'calibra' 'boxster' 'mii' 'niva' 'q7' '90' 'note' '850'\n",
      " 'legacy' 'navara' 'freelander' 'g_klasse' 'matiz' 'citigo' 'yeti'\n",
      " 'carnival' 'glk' 'crossfire' 'vivaro' 'sorento' '5_reihe' 'santa' '159'\n",
      " 'bravo' 'rx_reihe' '145' 'a2' 's60' 'lybra' 'justy' 'lancer' 'discovery'\n",
      " 'terios' 'agila' 'exeo' 'forester' 'v_klasse' 'spark' 'jimny' 'gl'\n",
      " 'x_type' 'charade' 'tucson' 'x_trail' '9000' '200' '6er' 'wrangler' 'v60'\n",
      " 'antara' 'cherokee' 'kalina' 'cx_reihe' 'r19' 's_type' 'range_rover'\n",
      " 'lanos' 'rangerover' 'juke' 'materia' 'croma' 'musa' 'amarok' 'delta'\n",
      " 'kappa' 'lodgy' 'move' 'b_max' 'i3' 'samara' 'serie_2' 'elefantino'\n",
      " 'serie_1' 'discovery_sport' 'serie_3']\n",
      "['benzene' 'diesel' 'lpg' 'other' 'hybrid' 'cng' 'electric']\n"
     ]
    }
   ],
   "source": [
    "unique_brand = df['brand'].unique()\n",
    "print(unique_brand)\n",
    "unique_vehicleType = df['vehicleType'].unique()\n",
    "print(unique_vehicleType)\n",
    "unique_gearbox  = df['gearbox'].unique()\n",
    "print(unique_gearbox)\n",
    "unique_model = df['model'].unique()\n",
    "print(unique_model)\n",
    "unique_fuelType = df['fuelType'].unique()\n",
    "print(unique_fuelType)"
   ]
  },
  {
   "cell_type": "code",
   "execution_count": 9,
   "metadata": {},
   "outputs": [],
   "source": [
    "df=df.replace('elektro','electric')"
   ]
  },
  {
   "cell_type": "code",
   "execution_count": 11,
   "metadata": {},
   "outputs": [],
   "source": [
    "df.to_csv(\"cleaned.csv\")"
   ]
  },
  {
   "cell_type": "code",
   "execution_count": 13,
   "metadata": {},
   "outputs": [],
   "source": [
    "df1=pd.read_csv(\"cleaned.csv\")"
   ]
  },
  {
   "cell_type": "code",
   "execution_count": 14,
   "metadata": {},
   "outputs": [
    {
     "data": {
      "text/html": [
       "<div>\n",
       "<style scoped>\n",
       "    .dataframe tbody tr th:only-of-type {\n",
       "        vertical-align: middle;\n",
       "    }\n",
       "\n",
       "    .dataframe tbody tr th {\n",
       "        vertical-align: top;\n",
       "    }\n",
       "\n",
       "    .dataframe thead th {\n",
       "        text-align: right;\n",
       "    }\n",
       "</style>\n",
       "<table border=\"1\" class=\"dataframe\">\n",
       "  <thead>\n",
       "    <tr style=\"text-align: right;\">\n",
       "      <th></th>\n",
       "      <th>Unnamed: 0.1</th>\n",
       "      <th>Unnamed: 0</th>\n",
       "      <th>price</th>\n",
       "      <th>vehicleType</th>\n",
       "      <th>yearOfRegistration</th>\n",
       "      <th>gearbox</th>\n",
       "      <th>model</th>\n",
       "      <th>kilometer</th>\n",
       "      <th>fuelType</th>\n",
       "      <th>brand</th>\n",
       "    </tr>\n",
       "  </thead>\n",
       "  <tbody>\n",
       "    <tr>\n",
       "      <th>0</th>\n",
       "      <td>0</td>\n",
       "      <td>0</td>\n",
       "      <td>500</td>\n",
       "      <td>kleinwagen</td>\n",
       "      <td>1997</td>\n",
       "      <td>manual</td>\n",
       "      <td>polo</td>\n",
       "      <td>150000</td>\n",
       "      <td>benzene</td>\n",
       "      <td>volkswagen</td>\n",
       "    </tr>\n",
       "    <tr>\n",
       "      <th>1</th>\n",
       "      <td>1</td>\n",
       "      <td>1</td>\n",
       "      <td>11500</td>\n",
       "      <td>kombi</td>\n",
       "      <td>2005</td>\n",
       "      <td>automatic</td>\n",
       "      <td>a6</td>\n",
       "      <td>150000</td>\n",
       "      <td>diesel</td>\n",
       "      <td>audi</td>\n",
       "    </tr>\n",
       "    <tr>\n",
       "      <th>2</th>\n",
       "      <td>2</td>\n",
       "      <td>2</td>\n",
       "      <td>6200</td>\n",
       "      <td>cabrio</td>\n",
       "      <td>1999</td>\n",
       "      <td>automatic</td>\n",
       "      <td>clk</td>\n",
       "      <td>150000</td>\n",
       "      <td>benzene</td>\n",
       "      <td>mercedes_benz</td>\n",
       "    </tr>\n",
       "    <tr>\n",
       "      <th>3</th>\n",
       "      <td>3</td>\n",
       "      <td>3</td>\n",
       "      <td>20900</td>\n",
       "      <td>limousine</td>\n",
       "      <td>2013</td>\n",
       "      <td>automatic</td>\n",
       "      <td>c_klasse</td>\n",
       "      <td>50000</td>\n",
       "      <td>benzene</td>\n",
       "      <td>mercedes_benz</td>\n",
       "    </tr>\n",
       "    <tr>\n",
       "      <th>4</th>\n",
       "      <td>4</td>\n",
       "      <td>4</td>\n",
       "      <td>4200</td>\n",
       "      <td>kleinwagen</td>\n",
       "      <td>2007</td>\n",
       "      <td>manual</td>\n",
       "      <td>yaris</td>\n",
       "      <td>150000</td>\n",
       "      <td>diesel</td>\n",
       "      <td>toyota</td>\n",
       "    </tr>\n",
       "  </tbody>\n",
       "</table>\n",
       "</div>"
      ],
      "text/plain": [
       "   Unnamed: 0.1  Unnamed: 0  price vehicleType  yearOfRegistration    gearbox  \\\n",
       "0             0           0    500  kleinwagen                1997     manual   \n",
       "1             1           1  11500       kombi                2005  automatic   \n",
       "2             2           2   6200      cabrio                1999  automatic   \n",
       "3             3           3  20900   limousine                2013  automatic   \n",
       "4             4           4   4200  kleinwagen                2007     manual   \n",
       "\n",
       "      model  kilometer fuelType          brand  \n",
       "0      polo     150000  benzene     volkswagen  \n",
       "1        a6     150000   diesel           audi  \n",
       "2       clk     150000  benzene  mercedes_benz  \n",
       "3  c_klasse      50000  benzene  mercedes_benz  \n",
       "4     yaris     150000   diesel         toyota  "
      ]
     },
     "execution_count": 14,
     "metadata": {},
     "output_type": "execute_result"
    }
   ],
   "source": [
    "df1.head()"
   ]
  },
  {
   "cell_type": "code",
   "execution_count": 16,
   "metadata": {},
   "outputs": [
    {
     "name": "stdout",
     "output_type": "stream",
     "text": [
      "['benzene' 'diesel' 'lpg' 'other' 'hybrid' 'cng' 'electric']\n"
     ]
    }
   ],
   "source": [
    "unique_fuelType = df1['fuelType'].unique()\n",
    "print(unique_fuelType)"
   ]
  },
  {
   "cell_type": "code",
   "execution_count": null,
   "metadata": {},
   "outputs": [],
   "source": []
  }
 ],
 "metadata": {
  "kernelspec": {
   "display_name": "Python 3",
   "language": "python",
   "name": "python3"
  },
  "language_info": {
   "codemirror_mode": {
    "name": "ipython",
    "version": 3
   },
   "file_extension": ".py",
   "mimetype": "text/x-python",
   "name": "python",
   "nbconvert_exporter": "python",
   "pygments_lexer": "ipython3",
   "version": "3.10.0"
  }
 },
 "nbformat": 4,
 "nbformat_minor": 2
}
