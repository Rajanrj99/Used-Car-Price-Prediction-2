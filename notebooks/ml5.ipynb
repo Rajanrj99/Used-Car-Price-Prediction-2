{
 "cells": [
  {
   "cell_type": "code",
   "execution_count": 258,
   "metadata": {},
   "outputs": [],
   "source": [
    "import pandas as pd\n"
   ]
  },
  {
   "cell_type": "code",
   "execution_count": 259,
   "metadata": {},
   "outputs": [],
   "source": [
    "df=pd.DataFrame(pd.read_csv(\"usedcar.csv\"))"
   ]
  },
  {
   "cell_type": "code",
   "execution_count": 260,
   "metadata": {},
   "outputs": [
    {
     "data": {
      "text/html": [
       "<div>\n",
       "<style scoped>\n",
       "    .dataframe tbody tr th:only-of-type {\n",
       "        vertical-align: middle;\n",
       "    }\n",
       "\n",
       "    .dataframe tbody tr th {\n",
       "        vertical-align: top;\n",
       "    }\n",
       "\n",
       "    .dataframe thead th {\n",
       "        text-align: right;\n",
       "    }\n",
       "</style>\n",
       "<table border=\"1\" class=\"dataframe\">\n",
       "  <thead>\n",
       "    <tr style=\"text-align: right;\">\n",
       "      <th></th>\n",
       "      <th>Name</th>\n",
       "      <th>Location</th>\n",
       "      <th>Year</th>\n",
       "      <th>Kilometers_Driven</th>\n",
       "      <th>Fuel_Type</th>\n",
       "      <th>Transmission</th>\n",
       "      <th>Owner_Type</th>\n",
       "      <th>Mileage</th>\n",
       "      <th>Engine</th>\n",
       "      <th>Power</th>\n",
       "      <th>Seats</th>\n",
       "    </tr>\n",
       "  </thead>\n",
       "  <tbody>\n",
       "    <tr>\n",
       "      <th>0</th>\n",
       "      <td>Maruti Alto K10 LXI CNG</td>\n",
       "      <td>Delhi</td>\n",
       "      <td>2014</td>\n",
       "      <td>40929</td>\n",
       "      <td>CNG</td>\n",
       "      <td>Manual</td>\n",
       "      <td>First</td>\n",
       "      <td>32.26 km/kg</td>\n",
       "      <td>998 CC</td>\n",
       "      <td>58.2 bhp</td>\n",
       "      <td>4.0</td>\n",
       "    </tr>\n",
       "    <tr>\n",
       "      <th>1</th>\n",
       "      <td>Maruti Alto 800 2016-2019 LXI</td>\n",
       "      <td>Coimbatore</td>\n",
       "      <td>2013</td>\n",
       "      <td>54493</td>\n",
       "      <td>Petrol</td>\n",
       "      <td>Manual</td>\n",
       "      <td>Second</td>\n",
       "      <td>24.7 kmpl</td>\n",
       "      <td>796 CC</td>\n",
       "      <td>47.3 bhp</td>\n",
       "      <td>5.0</td>\n",
       "    </tr>\n",
       "    <tr>\n",
       "      <th>2</th>\n",
       "      <td>Toyota Innova Crysta Touring Sport 2.4 MT</td>\n",
       "      <td>Mumbai</td>\n",
       "      <td>2017</td>\n",
       "      <td>34000</td>\n",
       "      <td>Diesel</td>\n",
       "      <td>Manual</td>\n",
       "      <td>First</td>\n",
       "      <td>13.68 kmpl</td>\n",
       "      <td>2393 CC</td>\n",
       "      <td>147.8 bhp</td>\n",
       "      <td>7.0</td>\n",
       "    </tr>\n",
       "    <tr>\n",
       "      <th>3</th>\n",
       "      <td>Toyota Etios Liva GD</td>\n",
       "      <td>Hyderabad</td>\n",
       "      <td>2012</td>\n",
       "      <td>139000</td>\n",
       "      <td>Diesel</td>\n",
       "      <td>Manual</td>\n",
       "      <td>First</td>\n",
       "      <td>23.59 kmpl</td>\n",
       "      <td>1364 CC</td>\n",
       "      <td>null bhp</td>\n",
       "      <td>5.0</td>\n",
       "    </tr>\n",
       "    <tr>\n",
       "      <th>4</th>\n",
       "      <td>Hyundai i20 Magna</td>\n",
       "      <td>Mumbai</td>\n",
       "      <td>2014</td>\n",
       "      <td>29000</td>\n",
       "      <td>Petrol</td>\n",
       "      <td>Manual</td>\n",
       "      <td>First</td>\n",
       "      <td>18.5 kmpl</td>\n",
       "      <td>1197 CC</td>\n",
       "      <td>82.85 bhp</td>\n",
       "      <td>5.0</td>\n",
       "    </tr>\n",
       "  </tbody>\n",
       "</table>\n",
       "</div>"
      ],
      "text/plain": [
       "                                        Name    Location  Year  \\\n",
       "0                    Maruti Alto K10 LXI CNG       Delhi  2014   \n",
       "1              Maruti Alto 800 2016-2019 LXI  Coimbatore  2013   \n",
       "2  Toyota Innova Crysta Touring Sport 2.4 MT      Mumbai  2017   \n",
       "3                       Toyota Etios Liva GD   Hyderabad  2012   \n",
       "4                          Hyundai i20 Magna      Mumbai  2014   \n",
       "\n",
       "   Kilometers_Driven Fuel_Type Transmission Owner_Type      Mileage   Engine  \\\n",
       "0              40929       CNG       Manual      First  32.26 km/kg   998 CC   \n",
       "1              54493    Petrol       Manual     Second    24.7 kmpl   796 CC   \n",
       "2              34000    Diesel       Manual      First   13.68 kmpl  2393 CC   \n",
       "3             139000    Diesel       Manual      First   23.59 kmpl  1364 CC   \n",
       "4              29000    Petrol       Manual      First    18.5 kmpl  1197 CC   \n",
       "\n",
       "       Power  Seats  \n",
       "0   58.2 bhp    4.0  \n",
       "1   47.3 bhp    5.0  \n",
       "2  147.8 bhp    7.0  \n",
       "3   null bhp    5.0  \n",
       "4  82.85 bhp    5.0  "
      ]
     },
     "execution_count": 260,
     "metadata": {},
     "output_type": "execute_result"
    }
   ],
   "source": [
    "df.head()"
   ]
  },
  {
   "cell_type": "code",
   "execution_count": 261,
   "metadata": {},
   "outputs": [],
   "source": [
    "\n",
    "df.dropna(inplace=True)"
   ]
  },
  {
   "cell_type": "code",
   "execution_count": 262,
   "metadata": {},
   "outputs": [
    {
     "data": {
      "text/plain": [
       "Name                 0\n",
       "Location             0\n",
       "Year                 0\n",
       "Kilometers_Driven    0\n",
       "Fuel_Type            0\n",
       "Transmission         0\n",
       "Owner_Type           0\n",
       "Mileage              0\n",
       "Engine               0\n",
       "Power                0\n",
       "Seats                0\n",
       "dtype: int64"
      ]
     },
     "execution_count": 262,
     "metadata": {},
     "output_type": "execute_result"
    }
   ],
   "source": [
    "df.isnull().sum()"
   ]
  },
  {
   "cell_type": "code",
   "execution_count": 263,
   "metadata": {},
   "outputs": [],
   "source": [
    "df['Engine'] = df['Engine'].str.extract('(\\d+)').astype(float)\n",
    "df['Mileage'] = df['Mileage'].str.extract('(\\d+)').astype(float)\n",
    "df[\"Power\"]=df[\"Power\"].replace(\"null bhp\",\"0\")\n",
    "df[\"Power\"].replace(\" \",\"0\")\n",
    "df['Power'] = df['Power'].str.extract('(\\d+)').astype(float)"
   ]
  },
  {
   "cell_type": "code",
   "execution_count": 264,
   "metadata": {},
   "outputs": [
    {
     "name": "stdout",
     "output_type": "stream",
     "text": [
      "(120000, 11)\n"
     ]
    }
   ],
   "source": [
    "import numpy as np\n",
    "\n",
    "# Load your data\n",
    "\n",
    "\n",
    "# Define a function to perturb numerical data\n",
    "def perturb_data(df, n_samples):\n",
    "    new_data = pd.DataFrame()\n",
    "    for _ in range(n_samples // len(df) + 1):  # Ensure we generate enough samples\n",
    "        temp_df = df.copy()\n",
    "        for col in df.select_dtypes(include=[np.number]).columns:\n",
    "            # Add Gaussian noise: mean=0, std=0.05 * standard deviation of the column\n",
    "            noise = np.random.normal(0, 0.05 * temp_df[col].std(), size=temp_df[col].shape)\n",
    "            temp_df[col] += noise\n",
    "        new_data = pd.concat([new_data, temp_df], ignore_index=True)\n",
    "    return new_data.sample(n_samples)  # Sample the required number of samples\n",
    "\n",
    "# Augment the data\n",
    "df1 = perturb_data(df, 120000)\n",
    "print(df1.shape)"
   ]
  },
  {
   "cell_type": "code",
   "execution_count": 265,
   "metadata": {},
   "outputs": [
    {
     "data": {
      "text/html": [
       "<div>\n",
       "<style scoped>\n",
       "    .dataframe tbody tr th:only-of-type {\n",
       "        vertical-align: middle;\n",
       "    }\n",
       "\n",
       "    .dataframe tbody tr th {\n",
       "        vertical-align: top;\n",
       "    }\n",
       "\n",
       "    .dataframe thead th {\n",
       "        text-align: right;\n",
       "    }\n",
       "</style>\n",
       "<table border=\"1\" class=\"dataframe\">\n",
       "  <thead>\n",
       "    <tr style=\"text-align: right;\">\n",
       "      <th></th>\n",
       "      <th>Name</th>\n",
       "      <th>Location</th>\n",
       "      <th>Year</th>\n",
       "      <th>Kilometers_Driven</th>\n",
       "      <th>Fuel_Type</th>\n",
       "      <th>Transmission</th>\n",
       "      <th>Owner_Type</th>\n",
       "      <th>Mileage</th>\n",
       "      <th>Engine</th>\n",
       "      <th>Power</th>\n",
       "      <th>Seats</th>\n",
       "    </tr>\n",
       "  </thead>\n",
       "  <tbody>\n",
       "    <tr>\n",
       "      <th>40847</th>\n",
       "      <td>Mercedes-Benz E-Class E250 CDI Avantgrade</td>\n",
       "      <td>Coimbatore</td>\n",
       "      <td>2016.002903</td>\n",
       "      <td>41257.665573</td>\n",
       "      <td>Diesel</td>\n",
       "      <td>Automatic</td>\n",
       "      <td>First</td>\n",
       "      <td>12.844387</td>\n",
       "      <td>2133.635374</td>\n",
       "      <td>204.141500</td>\n",
       "      <td>4.906762</td>\n",
       "    </tr>\n",
       "    <tr>\n",
       "      <th>103691</th>\n",
       "      <td>Hyundai i10 Era 1.1</td>\n",
       "      <td>Kochi</td>\n",
       "      <td>2013.012348</td>\n",
       "      <td>36060.873008</td>\n",
       "      <td>Petrol</td>\n",
       "      <td>Manual</td>\n",
       "      <td>First</td>\n",
       "      <td>18.835760</td>\n",
       "      <td>1062.584291</td>\n",
       "      <td>70.120131</td>\n",
       "      <td>4.924211</td>\n",
       "    </tr>\n",
       "    <tr>\n",
       "      <th>42000</th>\n",
       "      <td>Hyundai Creta 1.6 VTVT S</td>\n",
       "      <td>Bangalore</td>\n",
       "      <td>2016.076147</td>\n",
       "      <td>41527.618057</td>\n",
       "      <td>Petrol</td>\n",
       "      <td>Manual</td>\n",
       "      <td>First</td>\n",
       "      <td>15.052207</td>\n",
       "      <td>1554.588078</td>\n",
       "      <td>120.249132</td>\n",
       "      <td>4.966723</td>\n",
       "    </tr>\n",
       "    <tr>\n",
       "      <th>53575</th>\n",
       "      <td>Maruti Wagon R LXI Minor</td>\n",
       "      <td>Jaipur</td>\n",
       "      <td>2008.835366</td>\n",
       "      <td>110328.983583</td>\n",
       "      <td>Petrol</td>\n",
       "      <td>Manual</td>\n",
       "      <td>Second</td>\n",
       "      <td>17.853994</td>\n",
       "      <td>1057.095965</td>\n",
       "      <td>64.147056</td>\n",
       "      <td>5.029025</td>\n",
       "    </tr>\n",
       "    <tr>\n",
       "      <th>19806</th>\n",
       "      <td>Honda City i DTEC VX</td>\n",
       "      <td>Hyderabad</td>\n",
       "      <td>2013.938954</td>\n",
       "      <td>78632.979859</td>\n",
       "      <td>Diesel</td>\n",
       "      <td>Manual</td>\n",
       "      <td>First</td>\n",
       "      <td>25.049322</td>\n",
       "      <td>1573.408757</td>\n",
       "      <td>98.284794</td>\n",
       "      <td>4.969876</td>\n",
       "    </tr>\n",
       "  </tbody>\n",
       "</table>\n",
       "</div>"
      ],
      "text/plain": [
       "                                             Name    Location         Year  \\\n",
       "40847   Mercedes-Benz E-Class E250 CDI Avantgrade  Coimbatore  2016.002903   \n",
       "103691                        Hyundai i10 Era 1.1       Kochi  2013.012348   \n",
       "42000                    Hyundai Creta 1.6 VTVT S   Bangalore  2016.076147   \n",
       "53575                    Maruti Wagon R LXI Minor      Jaipur  2008.835366   \n",
       "19806                        Honda City i DTEC VX   Hyderabad  2013.938954   \n",
       "\n",
       "        Kilometers_Driven Fuel_Type Transmission Owner_Type    Mileage  \\\n",
       "40847        41257.665573    Diesel    Automatic      First  12.844387   \n",
       "103691       36060.873008    Petrol       Manual      First  18.835760   \n",
       "42000        41527.618057    Petrol       Manual      First  15.052207   \n",
       "53575       110328.983583    Petrol       Manual     Second  17.853994   \n",
       "19806        78632.979859    Diesel       Manual      First  25.049322   \n",
       "\n",
       "             Engine       Power     Seats  \n",
       "40847   2133.635374  204.141500  4.906762  \n",
       "103691  1062.584291   70.120131  4.924211  \n",
       "42000   1554.588078  120.249132  4.966723  \n",
       "53575   1057.095965   64.147056  5.029025  \n",
       "19806   1573.408757   98.284794  4.969876  "
      ]
     },
     "execution_count": 265,
     "metadata": {},
     "output_type": "execute_result"
    }
   ],
   "source": [
    "df1.head()"
   ]
  },
  {
   "cell_type": "code",
   "execution_count": 266,
   "metadata": {},
   "outputs": [
    {
     "name": "stdout",
     "output_type": "stream",
     "text": [
      "<class 'pandas.core.frame.DataFrame'>\n",
      "Index: 120000 entries, 40847 to 29317\n",
      "Data columns (total 11 columns):\n",
      " #   Column             Non-Null Count   Dtype  \n",
      "---  ------             --------------   -----  \n",
      " 0   Name               120000 non-null  object \n",
      " 1   Location           120000 non-null  object \n",
      " 2   Year               120000 non-null  float64\n",
      " 3   Kilometers_Driven  120000 non-null  float64\n",
      " 4   Fuel_Type          120000 non-null  object \n",
      " 5   Transmission       120000 non-null  object \n",
      " 6   Owner_Type         120000 non-null  object \n",
      " 7   Mileage            120000 non-null  float64\n",
      " 8   Engine             120000 non-null  float64\n",
      " 9   Power              120000 non-null  float64\n",
      " 10  Seats              120000 non-null  float64\n",
      "dtypes: float64(6), object(5)\n",
      "memory usage: 11.0+ MB\n"
     ]
    }
   ],
   "source": [
    "df1.info()"
   ]
  },
  {
   "cell_type": "code",
   "execution_count": 267,
   "metadata": {},
   "outputs": [
    {
     "data": {
      "text/plain": [
       "array([2133.63537407, 1062.58429135, 1554.58807783, ...,  793.29910393,\n",
       "       1366.47140369, 1174.6078126 ])"
      ]
     },
     "execution_count": 267,
     "metadata": {},
     "output_type": "execute_result"
    }
   ],
   "source": [
    "df1[\"Engine\"].unique()"
   ]
  },
  {
   "cell_type": "code",
   "execution_count": 268,
   "metadata": {},
   "outputs": [
    {
     "data": {
      "text/plain": [
       "Name                 0\n",
       "Location             0\n",
       "Year                 0\n",
       "Kilometers_Driven    0\n",
       "Fuel_Type            0\n",
       "Transmission         0\n",
       "Owner_Type           0\n",
       "Mileage              0\n",
       "Engine               0\n",
       "Power                0\n",
       "Seats                0\n",
       "dtype: int64"
      ]
     },
     "execution_count": 268,
     "metadata": {},
     "output_type": "execute_result"
    }
   ],
   "source": [
    "df1.isnull().sum()"
   ]
  },
  {
   "cell_type": "code",
   "execution_count": null,
   "metadata": {},
   "outputs": [],
   "source": []
  },
  {
   "cell_type": "code",
   "execution_count": null,
   "metadata": {},
   "outputs": [],
   "source": []
  },
  {
   "cell_type": "code",
   "execution_count": 269,
   "metadata": {},
   "outputs": [
    {
     "data": {
      "text/plain": [
       "Name                 0\n",
       "Location             0\n",
       "Year                 0\n",
       "Kilometers_Driven    0\n",
       "Fuel_Type            0\n",
       "Transmission         0\n",
       "Owner_Type           0\n",
       "Mileage              0\n",
       "Engine               0\n",
       "Power                0\n",
       "Seats                0\n",
       "dtype: int64"
      ]
     },
     "execution_count": 269,
     "metadata": {},
     "output_type": "execute_result"
    }
   ],
   "source": [
    "df1.isnull().sum()"
   ]
  },
  {
   "cell_type": "code",
   "execution_count": 270,
   "metadata": {},
   "outputs": [],
   "source": [
    "\n",
    "\n",
    "\n",
    "def determine_price(engine_cc):\n",
    "    if engine_cc <= 500:\n",
    "        return np.random.randint(100000, 200000)\n",
    "    elif engine_cc <= 1000:\n",
    "        return np.random.randint(200000, 350000)\n",
    "    elif engine_cc <= 2000:\n",
    "        return np.random.randint(300000, 450000)\n",
    "    elif engine_cc <= 3000:\n",
    "        return np.random.randint(450000, 650000)\n",
    "    else:\n",
    "        return np.random.randint(600000, 1000000)\n",
    "\n",
    "# Apply function to create new 'price' column\n",
    "df1['price'] = df1['Engine'].apply(determine_price)"
   ]
  },
  {
   "cell_type": "code",
   "execution_count": 271,
   "metadata": {},
   "outputs": [
    {
     "data": {
      "text/html": [
       "<div>\n",
       "<style scoped>\n",
       "    .dataframe tbody tr th:only-of-type {\n",
       "        vertical-align: middle;\n",
       "    }\n",
       "\n",
       "    .dataframe tbody tr th {\n",
       "        vertical-align: top;\n",
       "    }\n",
       "\n",
       "    .dataframe thead th {\n",
       "        text-align: right;\n",
       "    }\n",
       "</style>\n",
       "<table border=\"1\" class=\"dataframe\">\n",
       "  <thead>\n",
       "    <tr style=\"text-align: right;\">\n",
       "      <th></th>\n",
       "      <th>Name</th>\n",
       "      <th>Location</th>\n",
       "      <th>Year</th>\n",
       "      <th>Kilometers_Driven</th>\n",
       "      <th>Fuel_Type</th>\n",
       "      <th>Transmission</th>\n",
       "      <th>Owner_Type</th>\n",
       "      <th>Mileage</th>\n",
       "      <th>Engine</th>\n",
       "      <th>Power</th>\n",
       "      <th>Seats</th>\n",
       "      <th>price</th>\n",
       "    </tr>\n",
       "  </thead>\n",
       "  <tbody>\n",
       "    <tr>\n",
       "      <th>40847</th>\n",
       "      <td>Mercedes-Benz E-Class E250 CDI Avantgrade</td>\n",
       "      <td>Coimbatore</td>\n",
       "      <td>2016.002903</td>\n",
       "      <td>41257.665573</td>\n",
       "      <td>Diesel</td>\n",
       "      <td>Automatic</td>\n",
       "      <td>First</td>\n",
       "      <td>12.844387</td>\n",
       "      <td>2133.635374</td>\n",
       "      <td>204.141500</td>\n",
       "      <td>4.906762</td>\n",
       "      <td>573614</td>\n",
       "    </tr>\n",
       "    <tr>\n",
       "      <th>103691</th>\n",
       "      <td>Hyundai i10 Era 1.1</td>\n",
       "      <td>Kochi</td>\n",
       "      <td>2013.012348</td>\n",
       "      <td>36060.873008</td>\n",
       "      <td>Petrol</td>\n",
       "      <td>Manual</td>\n",
       "      <td>First</td>\n",
       "      <td>18.835760</td>\n",
       "      <td>1062.584291</td>\n",
       "      <td>70.120131</td>\n",
       "      <td>4.924211</td>\n",
       "      <td>426830</td>\n",
       "    </tr>\n",
       "    <tr>\n",
       "      <th>42000</th>\n",
       "      <td>Hyundai Creta 1.6 VTVT S</td>\n",
       "      <td>Bangalore</td>\n",
       "      <td>2016.076147</td>\n",
       "      <td>41527.618057</td>\n",
       "      <td>Petrol</td>\n",
       "      <td>Manual</td>\n",
       "      <td>First</td>\n",
       "      <td>15.052207</td>\n",
       "      <td>1554.588078</td>\n",
       "      <td>120.249132</td>\n",
       "      <td>4.966723</td>\n",
       "      <td>437460</td>\n",
       "    </tr>\n",
       "    <tr>\n",
       "      <th>53575</th>\n",
       "      <td>Maruti Wagon R LXI Minor</td>\n",
       "      <td>Jaipur</td>\n",
       "      <td>2008.835366</td>\n",
       "      <td>110328.983583</td>\n",
       "      <td>Petrol</td>\n",
       "      <td>Manual</td>\n",
       "      <td>Second</td>\n",
       "      <td>17.853994</td>\n",
       "      <td>1057.095965</td>\n",
       "      <td>64.147056</td>\n",
       "      <td>5.029025</td>\n",
       "      <td>325904</td>\n",
       "    </tr>\n",
       "    <tr>\n",
       "      <th>19806</th>\n",
       "      <td>Honda City i DTEC VX</td>\n",
       "      <td>Hyderabad</td>\n",
       "      <td>2013.938954</td>\n",
       "      <td>78632.979859</td>\n",
       "      <td>Diesel</td>\n",
       "      <td>Manual</td>\n",
       "      <td>First</td>\n",
       "      <td>25.049322</td>\n",
       "      <td>1573.408757</td>\n",
       "      <td>98.284794</td>\n",
       "      <td>4.969876</td>\n",
       "      <td>318295</td>\n",
       "    </tr>\n",
       "  </tbody>\n",
       "</table>\n",
       "</div>"
      ],
      "text/plain": [
       "                                             Name    Location         Year  \\\n",
       "40847   Mercedes-Benz E-Class E250 CDI Avantgrade  Coimbatore  2016.002903   \n",
       "103691                        Hyundai i10 Era 1.1       Kochi  2013.012348   \n",
       "42000                    Hyundai Creta 1.6 VTVT S   Bangalore  2016.076147   \n",
       "53575                    Maruti Wagon R LXI Minor      Jaipur  2008.835366   \n",
       "19806                        Honda City i DTEC VX   Hyderabad  2013.938954   \n",
       "\n",
       "        Kilometers_Driven Fuel_Type Transmission Owner_Type    Mileage  \\\n",
       "40847        41257.665573    Diesel    Automatic      First  12.844387   \n",
       "103691       36060.873008    Petrol       Manual      First  18.835760   \n",
       "42000        41527.618057    Petrol       Manual      First  15.052207   \n",
       "53575       110328.983583    Petrol       Manual     Second  17.853994   \n",
       "19806        78632.979859    Diesel       Manual      First  25.049322   \n",
       "\n",
       "             Engine       Power     Seats   price  \n",
       "40847   2133.635374  204.141500  4.906762  573614  \n",
       "103691  1062.584291   70.120131  4.924211  426830  \n",
       "42000   1554.588078  120.249132  4.966723  437460  \n",
       "53575   1057.095965   64.147056  5.029025  325904  \n",
       "19806   1573.408757   98.284794  4.969876  318295  "
      ]
     },
     "execution_count": 271,
     "metadata": {},
     "output_type": "execute_result"
    }
   ],
   "source": [
    "df1.head()"
   ]
  },
  {
   "cell_type": "code",
   "execution_count": 272,
   "metadata": {},
   "outputs": [
    {
     "data": {
      "image/png": "[encoded data removed]",
      "text/plain": [
       "<Figure size 640x480 with 1 Axes>"
      ]
     },
     "metadata": {},
     "output_type": "display_data"
    }
   ],
   "source": [
    "import matplotlib.pyplot as plt\n",
    "plt.hist(df1['price'], bins=100, color='blue', alpha=0.7)  # More bins for more detail\n",
    "plt.title('Histogram of Price')\n",
    "plt.xlabel('Price')\n",
    "plt.ylabel('Frequency')\n",
    "plt.grid(True)\n",
    "plt.show()"
   ]
  },
  {
   "cell_type": "code",
   "execution_count": 273,
   "metadata": {},
   "outputs": [
    {
     "data": {
      "image/png": "[encoded data removed]",
      "text/plain": [
       "<Figure size 640x480 with 1 Axes>"
      ]
     },
     "metadata": {},
     "output_type": "display_data"
    }
   ],
   "source": [
    "sampled_data = df1['price'].sample(n=100000, random_state=1)  # Adjust sample size as necessary\n",
    "sampled_data.plot(kind='density')\n",
    "plt.title('Density Plot of Price')\n",
    "plt.xlabel('Price')\n",
    "plt.show()"
   ]
  },
  {
   "cell_type": "code",
   "execution_count": 274,
   "metadata": {},
   "outputs": [
    {
     "name": "stdout",
     "output_type": "stream",
     "text": [
      "                       Year  Kilometers_Driven   Mileage    Engine     Power  \\\n",
      "Year               1.000000          -0.185275  0.316448 -0.054326  0.067529   \n",
      "Kilometers_Driven -0.185275           1.000000 -0.070742  0.094097  0.020750   \n",
      "Mileage            0.316448          -0.070742  1.000000 -0.595920 -0.448829   \n",
      "Engine            -0.054326           0.094097 -0.595920  1.000000  0.834691   \n",
      "Power              0.067529           0.020750 -0.448829  0.834691  1.000000   \n",
      "Seats              0.007977           0.089525 -0.312546  0.399018  0.103652   \n",
      "price             -0.019837           0.068552 -0.478191  0.784503  0.624679   \n",
      "\n",
      "                      Seats     price  \n",
      "Year               0.007977 -0.019837  \n",
      "Kilometers_Driven  0.089525  0.068552  \n",
      "Mileage           -0.312546 -0.478191  \n",
      "Engine             0.399018  0.784503  \n",
      "Power              0.103652  0.624679  \n",
      "Seats              1.000000  0.368431  \n",
      "price              0.368431  1.000000  \n"
     ]
    }
   ],
   "source": [
    "correlation_matrix=df1[['Year','Kilometers_Driven','Mileage','Engine','Power','Seats','price']].corr()\n",
    "print(correlation_matrix)"
   ]
  },
  {
   "cell_type": "code",
   "execution_count": 275,
   "metadata": {},
   "outputs": [],
   "source": [
    "df1.to_csv(\"usedcar1.csv\",index=False)"
   ]
  },
  {
   "cell_type": "code",
   "execution_count": 279,
   "metadata": {},
   "outputs": [],
   "source": [
    "numcols=['Year','Kilometers_Driven','Mileage','Engine','Power','Seats']\n",
    "\n",
    "for cols in numcols:\n",
    "    quartiles = df1[cols].quantile([0.25, 0.75])\n",
    "    Q1, Q3 = quartiles[0.25], quartiles[0.75]\n",
    "    IQR = Q3 - Q1\n",
    "\n",
    "    # Define bounds for outliers\n",
    "    lower_bound = Q1 - 1.5 * IQR\n",
    "    upper_bound = Q3 + 1.5 * IQR\n",
    "\n",
    "    # Filter out outliers\n",
    "    df1 = df1[(df1[cols] >= lower_bound) & (df1[cols] <= upper_bound)]"
   ]
  },
  {
   "cell_type": "code",
   "execution_count": 280,
   "metadata": {},
   "outputs": [
    {
     "name": "stdout",
     "output_type": "stream",
     "text": [
      "                       Year  Kilometers_Driven   Mileage    Engine     Power  \\\n",
      "Year               1.000000          -0.514162  0.339807 -0.101273  0.002054   \n",
      "Kilometers_Driven -0.514162           1.000000 -0.018116  0.188608  0.054532   \n",
      "Mileage            0.339807          -0.018116  1.000000 -0.343234 -0.398054   \n",
      "Engine            -0.101273           0.188608 -0.343234  1.000000  0.862922   \n",
      "Power              0.002054           0.054532 -0.398054  0.862922  1.000000   \n",
      "Seats             -0.002360           0.001580 -0.005354  0.004868  0.004280   \n",
      "price             -0.001076           0.052419 -0.120777  0.362587  0.284495   \n",
      "\n",
      "                      Seats     price  \n",
      "Year              -0.002360 -0.001076  \n",
      "Kilometers_Driven  0.001580  0.052419  \n",
      "Mileage           -0.005354 -0.120777  \n",
      "Engine             0.004868  0.362587  \n",
      "Power              0.004280  0.284495  \n",
      "Seats              1.000000  0.002236  \n",
      "price              0.002236  1.000000  \n"
     ]
    }
   ],
   "source": [
    "correlation_matrix=df1[['Year','Kilometers_Driven','Mileage','Engine','Power','Seats','price']].corr()\n",
    "print(correlation_matrix)"
   ]
  },
  {
   "cell_type": "code",
   "execution_count": 281,
   "metadata": {},
   "outputs": [],
   "source": [
    "df1.to_csv(\"usedcar2.csv\",index=False)"
   ]
  },
  {
   "cell_type": "code",
   "execution_count": null,
   "metadata": {},
   "outputs": [],
   "source": []
  }
 ],
 "metadata": {
  "kernelspec": {
   "display_name": "Python 3",
   "language": "python",
   "name": "python3"
  },
  "language_info": {
   "codemirror_mode": {
    "name": "ipython",
    "version": 3
   },
   "file_extension": ".py",
   "mimetype": "text/x-python",
   "name": "python",
   "nbconvert_exporter": "python",
   "pygments_lexer": "ipython3",
   "version": "3.10.0"
  }
 },
 "nbformat": 4,
 "nbformat_minor": 2
}
